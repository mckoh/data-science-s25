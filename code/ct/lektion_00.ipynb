{
 "cells": [
  {
   "cell_type": "markdown",
   "id": "640cb33d",
   "metadata": {},
   "source": [
    "# Lektion 0: Einführung in Pandas"
   ]
  },
  {
   "cell_type": "code",
   "execution_count": 1,
   "id": "2f14b8cf",
   "metadata": {},
   "outputs": [],
   "source": [
    "# Wir benutzen pandas als unsere Bibliothek zum Ladn und Manipulieren von Daten.\n",
    "# Wir benötigen aber nicht die ganze Bibliothek, sondern beschränken uns auf eine\n",
    "# Funktion\n",
    "\n",
    "from pandas import read_csv"
   ]
  },
  {
   "cell_type": "code",
   "execution_count": 3,
   "id": "3e02c083",
   "metadata": {},
   "outputs": [],
   "source": [
    "# Mehr über die Parameter dieser Methode unter: https://pandas.pydata.org/docs/reference/api/pandas.read_csv.html\n",
    "\n",
    "data = read_csv(\"../../data/bikesharing.csv\")"
   ]
  }
 ],
 "metadata": {
  "kernelspec": {
   "display_name": "Python 3",
   "language": "python",
   "name": "python3"
  },
  "language_info": {
   "codemirror_mode": {
    "name": "ipython",
    "version": 3
   },
   "file_extension": ".py",
   "mimetype": "text/x-python",
   "name": "python",
   "nbconvert_exporter": "python",
   "pygments_lexer": "ipython3",
   "version": "3.13.0"
  }
 },
 "nbformat": 4,
 "nbformat_minor": 5
}
