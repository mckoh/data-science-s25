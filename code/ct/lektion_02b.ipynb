{
 "cells": [
  {
   "cell_type": "markdown",
   "id": "db2efabe",
   "metadata": {},
   "source": [
    "# Megatutorial 2: Clustering"
   ]
  },
  {
   "cell_type": "code",
   "execution_count": 1,
   "id": "69261058",
   "metadata": {},
   "outputs": [],
   "source": [
    "from pandas import read_csv"
   ]
  },
  {
   "cell_type": "code",
   "execution_count": 2,
   "id": "3be225ce",
   "metadata": {},
   "outputs": [],
   "source": [
    "data = read_csv(\"../../data/fake_profiles.csv\", index_col=0)"
   ]
  },
  {
   "cell_type": "code",
   "execution_count": 3,
   "id": "91a6a298",
   "metadata": {},
   "outputs": [
    {
     "data": {
      "text/html": [
       "<div>\n",
       "<style scoped>\n",
       "    .dataframe tbody tr th:only-of-type {\n",
       "        vertical-align: middle;\n",
       "    }\n",
       "\n",
       "    .dataframe tbody tr th {\n",
       "        vertical-align: top;\n",
       "    }\n",
       "\n",
       "    .dataframe thead th {\n",
       "        text-align: right;\n",
       "    }\n",
       "</style>\n",
       "<table border=\"1\" class=\"dataframe\">\n",
       "  <thead>\n",
       "    <tr style=\"text-align: right;\">\n",
       "      <th></th>\n",
       "      <th>profile_pic</th>\n",
       "      <th>rel_num_numeric_char_username</th>\n",
       "      <th>words_fullname</th>\n",
       "      <th>rel_num_numeric_char_fullname</th>\n",
       "      <th>name=username</th>\n",
       "      <th>description_length</th>\n",
       "      <th>has_external_url</th>\n",
       "      <th>is_private</th>\n",
       "      <th>num_posts</th>\n",
       "      <th>num_followers</th>\n",
       "      <th>num_follows</th>\n",
       "      <th>is_fake</th>\n",
       "    </tr>\n",
       "  </thead>\n",
       "  <tbody>\n",
       "    <tr>\n",
       "      <th>0</th>\n",
       "      <td>yes</td>\n",
       "      <td>0.27</td>\n",
       "      <td>0</td>\n",
       "      <td>0.0</td>\n",
       "      <td>no</td>\n",
       "      <td>53</td>\n",
       "      <td>no</td>\n",
       "      <td>no</td>\n",
       "      <td>32</td>\n",
       "      <td>1000.0</td>\n",
       "      <td>955</td>\n",
       "      <td>no</td>\n",
       "    </tr>\n",
       "    <tr>\n",
       "      <th>1</th>\n",
       "      <td>yes</td>\n",
       "      <td>0.00</td>\n",
       "      <td>2</td>\n",
       "      <td>0.0</td>\n",
       "      <td>no</td>\n",
       "      <td>44</td>\n",
       "      <td>no</td>\n",
       "      <td>no</td>\n",
       "      <td>286</td>\n",
       "      <td>2740.0</td>\n",
       "      <td>533</td>\n",
       "      <td>no</td>\n",
       "    </tr>\n",
       "  </tbody>\n",
       "</table>\n",
       "</div>"
      ],
      "text/plain": [
       "  profile_pic  rel_num_numeric_char_username  words_fullname  \\\n",
       "0         yes                           0.27               0   \n",
       "1         yes                           0.00               2   \n",
       "\n",
       "   rel_num_numeric_char_fullname name=username  description_length  \\\n",
       "0                            0.0            no                  53   \n",
       "1                            0.0            no                  44   \n",
       "\n",
       "  has_external_url is_private  num_posts  num_followers  num_follows is_fake  \n",
       "0               no         no         32         1000.0          955      no  \n",
       "1               no         no        286         2740.0          533      no  "
      ]
     },
     "execution_count": 3,
     "metadata": {},
     "output_type": "execute_result"
    }
   ],
   "source": [
    "data.head(2)"
   ]
  },
  {
   "cell_type": "code",
   "execution_count": 4,
   "id": "b8e8fcbf",
   "metadata": {},
   "outputs": [
    {
     "name": "stdout",
     "output_type": "stream",
     "text": [
      "<class 'pandas.core.frame.DataFrame'>\n",
      "Index: 576 entries, 0 to 575\n",
      "Data columns (total 12 columns):\n",
      " #   Column                         Non-Null Count  Dtype  \n",
      "---  ------                         --------------  -----  \n",
      " 0   profile_pic                    576 non-null    object \n",
      " 1   rel_num_numeric_char_username  576 non-null    float64\n",
      " 2   words_fullname                 576 non-null    int64  \n",
      " 3   rel_num_numeric_char_fullname  576 non-null    float64\n",
      " 4   name=username                  576 non-null    object \n",
      " 5   description_length             576 non-null    int64  \n",
      " 6   has_external_url               576 non-null    object \n",
      " 7   is_private                     576 non-null    object \n",
      " 8   num_posts                      576 non-null    int64  \n",
      " 9   num_followers                  556 non-null    float64\n",
      " 10  num_follows                    576 non-null    int64  \n",
      " 11  is_fake                        576 non-null    object \n",
      "dtypes: float64(3), int64(4), object(5)\n",
      "memory usage: 58.5+ KB\n"
     ]
    }
   ],
   "source": [
    "data.info()"
   ]
  },
  {
   "cell_type": "code",
   "execution_count": 5,
   "id": "e669d9e8",
   "metadata": {},
   "outputs": [
    {
     "data": {
      "text/plain": [
       "Index(['profile_pic', 'rel_num_numeric_char_username', 'words_fullname',\n",
       "       'rel_num_numeric_char_fullname', 'name=username', 'description_length',\n",
       "       'has_external_url', 'is_private', 'num_posts', 'num_followers',\n",
       "       'num_follows', 'is_fake'],\n",
       "      dtype='object')"
      ]
     },
     "execution_count": 5,
     "metadata": {},
     "output_type": "execute_result"
    }
   ],
   "source": [
    "data.columns"
   ]
  },
  {
   "cell_type": "code",
   "execution_count": 6,
   "id": "822ad89b",
   "metadata": {},
   "outputs": [],
   "source": [
    "target = [\n",
    "    \"is_fake\"\n",
    "]\n",
    "\n",
    "features = [\n",
    "    'rel_num_numeric_char_username',\n",
    "    'words_fullname',\n",
    "    'rel_num_numeric_char_fullname',\n",
    "    'description_length'\n",
    "]\n",
    "\n",
    "X = data[features]\n",
    "y = data[target]"
   ]
  },
  {
   "cell_type": "markdown",
   "id": "bb9beef3",
   "metadata": {},
   "source": [
    "## Clustering in Scikit-Learn"
   ]
  },
  {
   "cell_type": "code",
   "execution_count": 7,
   "id": "fd246d55",
   "metadata": {},
   "outputs": [],
   "source": [
    "from sklearn.cluster import KMeans, AgglomerativeClustering"
   ]
  },
  {
   "cell_type": "code",
   "execution_count": 31,
   "id": "8123c3cd",
   "metadata": {},
   "outputs": [
    {
     "data": {
      "text/plain": [
       "array([2, 2, 1, 2, 1, 2, 2, 1, 2, 2, 2, 2, 1, 0, 0, 2, 1, 2, 2, 0, 2, 2,\n",
       "       2, 2, 1, 0, 1, 0, 0, 0, 0, 1, 2, 2, 2, 1, 1, 2, 0, 1, 1, 1, 1, 0,\n",
       "       2, 0, 1, 1, 1, 1, 0, 2, 0, 2, 2, 1, 2, 1, 1, 1, 1, 2, 1, 2, 0, 2,\n",
       "       2, 2, 2, 1, 2, 2, 1, 2, 1, 1, 2, 1, 2, 2, 1, 1, 2, 2, 1, 1, 2, 2,\n",
       "       2, 1, 1, 2, 1, 2, 1, 2, 1, 1, 2, 1, 1, 1, 1, 2, 2, 0, 0, 0, 2, 1,\n",
       "       1, 1, 0, 2, 1, 1, 1, 1, 0, 1, 1, 1, 2, 1, 2, 1, 1, 1, 1, 2, 0, 2,\n",
       "       0, 0, 1, 1, 2, 1, 2, 0, 1, 1, 2, 1, 0, 2, 1, 2, 0, 0, 2, 2, 2, 0,\n",
       "       2, 1, 1, 1, 1, 1, 1, 0, 1, 2, 0, 0, 2, 1, 2, 1, 2, 2, 0, 0, 1, 1,\n",
       "       0, 1, 1, 1, 1, 1, 2, 1, 2, 1, 2, 2, 1, 2, 2, 2, 1, 0, 0, 1, 2, 2,\n",
       "       0, 1, 2, 1, 2, 1, 2, 0, 2, 2, 1, 0, 1, 1, 2, 0, 0, 1, 2, 2, 0, 1,\n",
       "       2, 2, 1, 1, 1, 0, 0, 1, 2, 1, 1, 2, 2, 2, 0, 0, 1, 1, 1, 1, 2, 1,\n",
       "       2, 1, 1, 0, 1, 1, 1, 1, 1, 1, 1, 1, 2, 1, 1, 1, 2, 1, 0, 2, 2, 1,\n",
       "       1, 1, 1, 1, 1, 2, 1, 1, 0, 1, 2, 2, 2, 2, 1, 1, 1, 2, 2, 2, 1, 1,\n",
       "       1, 1, 1, 1, 1, 1, 1, 1, 2, 1, 1, 1, 1, 1, 1, 1, 1, 1, 1, 1, 1, 1,\n",
       "       1, 1, 1, 1, 1, 1, 1, 1, 1, 1, 2, 1, 1, 1, 1, 1, 1, 1, 1, 1, 1, 1,\n",
       "       1, 1, 1, 1, 1, 1, 1, 1, 1, 1, 1, 1, 1, 1, 1, 1, 1, 1, 1, 1, 2, 1,\n",
       "       1, 1, 1, 1, 1, 1, 1, 1, 1, 1, 1, 1, 1, 1, 0, 1, 1, 2, 1, 1, 1, 2,\n",
       "       1, 1, 1, 1, 1, 1, 0, 1, 1, 1, 1, 1, 2, 1, 1, 1, 1, 1, 1, 1, 1, 1,\n",
       "       1, 1, 0, 1, 1, 1, 1, 1, 1, 1, 1, 1, 1, 1, 1, 1, 1, 1, 0, 1, 1, 1,\n",
       "       1, 1, 1, 1, 1, 1, 1, 1, 1, 1, 1, 1, 1, 1, 1, 1, 1, 1, 1, 1, 1, 1,\n",
       "       1, 1, 0, 1, 2, 1, 1, 1, 1, 1, 1, 1, 1, 1, 2, 1, 1, 1, 1, 1, 1, 1,\n",
       "       2, 1, 1, 1, 1, 1, 1, 1, 2, 1, 1, 1, 1, 1, 1, 1, 1, 1, 1, 1, 1, 1,\n",
       "       1, 1, 1, 1, 1, 1, 1, 1, 1, 1, 1, 1, 1, 1, 1, 1, 1, 1, 1, 1, 1, 1,\n",
       "       1, 1, 1, 1, 1, 1, 1, 1, 1, 1, 1, 1, 1, 1, 1, 1, 1, 1, 1, 1, 1, 1,\n",
       "       1, 1, 1, 1, 1, 1, 1, 1, 1, 1, 1, 1, 1, 1, 1, 1, 2, 1, 1, 1, 1, 1,\n",
       "       1, 1, 1, 1, 1, 1, 1, 1, 1, 2, 1, 1, 1, 1, 2, 1, 1, 1, 1, 1, 2, 1,\n",
       "       1, 1, 1, 1], dtype=int32)"
      ]
     },
     "execution_count": 31,
     "metadata": {},
     "output_type": "execute_result"
    }
   ],
   "source": [
    "# Ich habe hier 2 gewählt, weil ich von 2 Profiltypen (fake/nicht-fake)\n",
    "# ausgegangen bin.\n",
    "kmeans_engine = KMeans(n_clusters=3)\n",
    "\n",
    "# Einstellen und Anwenden in zwei Schritten\n",
    "kmeans_engine.fit(X)\n",
    "kmeans_engine.predict(X)\n",
    "\n",
    "# Einstellen und Anwenden in einem Schritt\n",
    "# clusters = kmeans_engine.fit_predict(X)"
   ]
  },
  {
   "cell_type": "code",
   "execution_count": 32,
   "id": "16a502b9",
   "metadata": {},
   "outputs": [
    {
     "data": {
      "text/plain": [
       "array([0, 0, 2, 1, 2, 1, 0, 2, 0, 0, 0, 0, 2, 1, 1, 0, 2, 0, 0, 1, 0, 0,\n",
       "       0, 0, 2, 1, 2, 1, 1, 1, 1, 2, 0, 0, 0, 2, 2, 1, 1, 2, 2, 2, 0, 1,\n",
       "       0, 1, 2, 2, 2, 0, 1, 0, 1, 0, 1, 2, 0, 2, 2, 2, 2, 0, 2, 0, 1, 0,\n",
       "       0, 0, 0, 2, 0, 0, 2, 0, 2, 2, 0, 0, 0, 0, 2, 2, 0, 0, 0, 0, 1, 0,\n",
       "       0, 2, 2, 0, 2, 0, 2, 0, 0, 2, 0, 2, 2, 2, 2, 0, 0, 1, 1, 1, 0, 2,\n",
       "       0, 2, 1, 0, 2, 2, 2, 2, 1, 2, 2, 2, 0, 2, 0, 2, 2, 2, 0, 0, 1, 0,\n",
       "       1, 1, 2, 0, 0, 2, 0, 1, 2, 2, 0, 2, 1, 0, 0, 0, 1, 1, 0, 0, 0, 1,\n",
       "       0, 2, 2, 2, 2, 2, 2, 1, 2, 0, 1, 1, 0, 2, 0, 2, 0, 0, 1, 1, 2, 0,\n",
       "       1, 2, 2, 2, 2, 2, 0, 2, 0, 2, 0, 0, 2, 0, 0, 0, 2, 1, 1, 2, 0, 0,\n",
       "       1, 2, 0, 2, 0, 0, 0, 1, 0, 0, 0, 1, 0, 2, 0, 1, 1, 2, 0, 0, 1, 2,\n",
       "       0, 0, 2, 2, 2, 1, 1, 0, 0, 0, 2, 0, 0, 0, 1, 1, 2, 2, 0, 2, 0, 2,\n",
       "       1, 2, 2, 1, 2, 2, 2, 2, 2, 2, 2, 2, 0, 2, 2, 2, 0, 0, 1, 0, 0, 2,\n",
       "       2, 2, 2, 2, 0, 0, 0, 0, 1, 2, 0, 0, 0, 0, 2, 2, 2, 0, 0, 0, 0, 2,\n",
       "       2, 2, 2, 2, 2, 2, 0, 2, 0, 2, 2, 2, 2, 2, 2, 2, 2, 2, 2, 2, 2, 2,\n",
       "       2, 2, 2, 2, 2, 2, 2, 2, 2, 2, 0, 2, 2, 2, 2, 2, 2, 2, 2, 2, 2, 2,\n",
       "       2, 2, 2, 2, 2, 2, 2, 2, 2, 2, 2, 2, 2, 2, 2, 2, 2, 0, 2, 2, 0, 2,\n",
       "       2, 2, 2, 2, 2, 2, 2, 2, 0, 2, 2, 2, 2, 2, 1, 2, 2, 0, 2, 2, 2, 0,\n",
       "       2, 2, 2, 2, 2, 2, 1, 2, 2, 2, 2, 2, 0, 2, 2, 2, 2, 2, 2, 2, 2, 2,\n",
       "       2, 2, 1, 2, 2, 2, 2, 2, 2, 2, 2, 2, 2, 2, 2, 2, 2, 2, 1, 2, 2, 2,\n",
       "       2, 2, 0, 2, 2, 2, 2, 2, 2, 2, 2, 2, 2, 2, 2, 0, 2, 2, 2, 2, 2, 2,\n",
       "       2, 2, 1, 2, 0, 2, 2, 2, 2, 2, 2, 2, 2, 2, 0, 2, 2, 2, 2, 2, 2, 2,\n",
       "       0, 2, 2, 2, 2, 2, 2, 2, 0, 2, 2, 2, 2, 2, 2, 2, 2, 2, 2, 2, 2, 2,\n",
       "       2, 2, 2, 2, 2, 2, 2, 2, 2, 2, 2, 2, 2, 2, 2, 2, 2, 2, 2, 2, 2, 2,\n",
       "       2, 2, 2, 2, 2, 2, 2, 2, 2, 2, 2, 2, 2, 2, 2, 2, 2, 2, 2, 2, 2, 2,\n",
       "       2, 2, 2, 2, 2, 2, 2, 0, 2, 2, 2, 2, 2, 2, 2, 2, 0, 2, 2, 2, 2, 2,\n",
       "       2, 2, 2, 2, 2, 2, 2, 2, 2, 0, 2, 2, 2, 2, 0, 2, 0, 2, 2, 2, 0, 2,\n",
       "       0, 2, 2, 2])"
      ]
     },
     "execution_count": 32,
     "metadata": {},
     "output_type": "execute_result"
    }
   ],
   "source": [
    "hierarchical_engine = AgglomerativeClustering(n_clusters=3)\n",
    "\n",
    "# Einstellen und Anwenden in zwei Schritten\n",
    "hierarchical_engine.fit_predict(X)"
   ]
  },
  {
   "cell_type": "markdown",
   "id": "2e325e88",
   "metadata": {},
   "source": [
    "## Clustering in Scipy"
   ]
  },
  {
   "cell_type": "code",
   "execution_count": 27,
   "id": "b8649df3",
   "metadata": {},
   "outputs": [],
   "source": [
    "from scipy.cluster import hierarchy\n",
    "from matplotlib import pyplot as plt"
   ]
  },
  {
   "cell_type": "code",
   "execution_count": 29,
   "id": "36fca164",
   "metadata": {},
   "outputs": [],
   "source": [
    "Z = hierarchy.linkage(X, method=\"ward\")"
   ]
  },
  {
   "cell_type": "code",
   "execution_count": 30,
   "id": "f658875b",
   "metadata": {},
   "outputs": [
    {
     "data": {
      "image/png": "[encoded data removed]",
      "text/plain": [
       "<Figure size 640x480 with 1 Axes>"
      ]
     },
     "metadata": {},
     "output_type": "display_data"
    }
   ],
   "source": [
    "hierarchy.dendrogram(Z)\n",
    "plt.show()"
   ]
  },
  {
   "cell_type": "code",
   "execution_count": null,
   "id": "6d4b4124",
   "metadata": {},
   "outputs": [],
   "source": []
  }
 ],
 "metadata": {
  "kernelspec": {
   "display_name": "mlenv",
   "language": "python",
   "name": "python3"
  },
  "language_info": {
   "codemirror_mode": {
    "name": "ipython",
    "version": 3
   },
   "file_extension": ".py",
   "mimetype": "text/x-python",
   "name": "python",
   "nbconvert_exporter": "python",
   "pygments_lexer": "ipython3",
   "version": "3.12.1"
  }
 },
 "nbformat": 4,
 "nbformat_minor": 5
}
