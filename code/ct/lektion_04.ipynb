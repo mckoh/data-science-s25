{
 "cells": [
  {
   "cell_type": "markdown",
   "metadata": {},
   "source": [
    "## Megatutorial 04: Regression"
   ]
  },
  {
   "cell_type": "code",
   "execution_count": 9,
   "metadata": {},
   "outputs": [],
   "source": [
    "from pandas import read_csv\n",
    "\n",
    "from sklearn.impute import SimpleImputer\n",
    "from sklearn.preprocessing import LabelEncoder\n",
    "from sklearn.model_selection import train_test_split\n",
    "\n",
    "from sklearn.linear_model import LinearRegression\n",
    "from sklearn.tree import DecisionTreeRegressor\n",
    "\n",
    "from sklearn.metrics import r2_score, mean_squared_error\n",
    "from sklearn.metrics import root_mean_squared_error, mean_absolute_error"
   ]
  },
  {
   "cell_type": "markdown",
   "metadata": {},
   "source": [
    "## Daten Laden"
   ]
  },
  {
   "cell_type": "code",
   "execution_count": 10,
   "metadata": {},
   "outputs": [],
   "source": [
    "data = read_csv(\"../../data/bikesharing.csv\", index_col=0)"
   ]
  },
  {
   "cell_type": "markdown",
   "metadata": {},
   "source": [
    "## Data Preprocessing"
   ]
  },
  {
   "cell_type": "markdown",
   "metadata": {},
   "source": [
    "### Imputing"
   ]
  },
  {
   "cell_type": "code",
   "execution_count": 11,
   "metadata": {},
   "outputs": [],
   "source": [
    "imputer = SimpleImputer(strategy=\"median\")\n",
    "imputer.fit(data[[\"hum\"]])\n",
    "data[\"hum\"] = imputer.transform(data[[\"hum\"]])"
   ]
  },
  {
   "cell_type": "markdown",
   "metadata": {},
   "source": [
    "### Encoding"
   ]
  },
  {
   "cell_type": "code",
   "execution_count": 12,
   "metadata": {},
   "outputs": [],
   "source": [
    "season_encoder = LabelEncoder()\n",
    "data[\"season\"] = season_encoder.fit_transform(data[\"season\"])\n",
    "\n",
    "holiday_encoder = LabelEncoder()\n",
    "data[\"holiday\"] = holiday_encoder.fit_transform(data[\"holiday\"])\n",
    "\n",
    "weekday_encoder = LabelEncoder()\n",
    "data[\"weekday\"] = weekday_encoder.fit_transform(data[\"weekday\"])\n",
    "\n",
    "workingday_encoder = LabelEncoder()\n",
    "data[\"workingday\"] = workingday_encoder.fit_transform(data[\"workingday\"])\n",
    "\n",
    "weathersit_encoder = LabelEncoder()\n",
    "data[\"weathersit\"] = weathersit_encoder.fit_transform(data[\"weathersit\"])"
   ]
  },
  {
   "cell_type": "markdown",
   "metadata": {},
   "source": [
    "### Feature/Target Split"
   ]
  },
  {
   "cell_type": "code",
   "execution_count": 13,
   "metadata": {},
   "outputs": [],
   "source": [
    "features = [\n",
    "    'season', 'holiday', 'weekday', 'weathersit', 'temp',\n",
    "    'atemp', 'hum', 'windspeed', 'month'\n",
    "]\n",
    "\n",
    "target = ['cnt']\n",
    "\n",
    "X = data[features]\n",
    "y = data[target]"
   ]
  },
  {
   "cell_type": "markdown",
   "metadata": {},
   "source": [
    "### Train/Test Split"
   ]
  },
  {
   "cell_type": "code",
   "execution_count": 14,
   "metadata": {},
   "outputs": [],
   "source": [
    "X_train, X_test, y_train, y_test = train_test_split(X, y, test_size=0.4, random_state=875)"
   ]
  },
  {
   "cell_type": "markdown",
   "metadata": {},
   "source": [
    "## Modelling"
   ]
  },
  {
   "cell_type": "markdown",
   "metadata": {},
   "source": [
    "### Lineare Regression"
   ]
  },
  {
   "cell_type": "code",
   "execution_count": 17,
   "metadata": {},
   "outputs": [
    {
     "name": "stdout",
     "output_type": "stream",
     "text": [
      "R² 0.5405958921616068 , RMSE 1373.1227620068096 , MAE 1163.1284232192193\n"
     ]
    }
   ],
   "source": [
    "linear_model = LinearRegression()\n",
    "linear_model.fit(X_train, y_train)\n",
    "\n",
    "predictions = linear_model.predict(X_test)\n",
    "\n",
    "print(\n",
    "    \"R²\", r2_score(y_test, predictions),\n",
    "    \", RMSE\", root_mean_squared_error(y_test, predictions),\n",
    "    \", MAE\", mean_absolute_error(y_test, predictions)\n",
    ")"
   ]
  },
  {
   "cell_type": "markdown",
   "metadata": {},
   "source": [
    "### Decision Tree Regressor"
   ]
  },
  {
   "cell_type": "code",
   "execution_count": 22,
   "metadata": {},
   "outputs": [
    {
     "name": "stdout",
     "output_type": "stream",
     "text": [
      "R² 0.544991012461358 , RMSE 1366.5386420626091 , MAE 1134.0577092648987\n"
     ]
    }
   ],
   "source": [
    "tree_model = DecisionTreeRegressor(max_depth=5)\n",
    "tree_model.fit(X_train, y_train)\n",
    "\n",
    "predictions = tree_model.predict(X_test)\n",
    "\n",
    "print(\n",
    "    \"R²\", r2_score(y_test, predictions),\n",
    "    \", RMSE\", root_mean_squared_error(y_test, predictions),\n",
    "    \", MAE\", mean_absolute_error(y_test, predictions)\n",
    ")"
   ]
  },
  {
   "cell_type": "code",
   "execution_count": null,
   "metadata": {},
   "outputs": [],
   "source": []
  }
 ],
 "metadata": {
  "kernelspec": {
   "display_name": ".venv",
   "language": "python",
   "name": "python3"
  },
  "language_info": {
   "codemirror_mode": {
    "name": "ipython",
    "version": 3
   },
   "file_extension": ".py",
   "mimetype": "text/x-python",
   "name": "python",
   "nbconvert_exporter": "python",
   "pygments_lexer": "ipython3",
   "version": "3.13.0"
  }
 },
 "nbformat": 4,
 "nbformat_minor": 2
}
