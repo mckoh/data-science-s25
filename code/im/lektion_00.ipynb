{
 "cells": [
  {
   "cell_type": "markdown",
   "id": "69bffa00",
   "metadata": {},
   "source": [
    "# Lektion 0: Einführung in Pandas"
   ]
  },
  {
   "cell_type": "code",
   "execution_count": null,
   "id": "66cce886",
   "metadata": {},
   "outputs": [],
   "source": [
    "# Wir benutzen pandas als unsere Bibliothek zum Ladn und Manipulieren von Daten.\n",
    "# Wir benötigen aber nicht die ganze Bibliothek, sondern beschränken uns auf eine\n",
    "# Funktion\n",
    "\n",
    "\n",
    "from pandas import read_csv"
   ]
  },
  {
   "cell_type": "code",
   "execution_count": null,
   "id": "0b8805e6",
   "metadata": {},
   "outputs": [],
   "source": [
    "# Mehr über die Parameter dieser Methode unter: https://pandas.pydata.org/docs/reference/api/pandas.read_csv.html\n",
    "\n",
    "data = read_csv(\n",
    "    filepath_or_buffer=\"../../data/bikesharing.csv\",\n",
    "    sep=\",\",\n",
    "    decimal=\".\"\n",
    ")"
   ]
  },
  {
   "cell_type": "code",
   "execution_count": 17,
   "id": "6c978595",
   "metadata": {},
   "outputs": [
    {
     "name": "stdout",
     "output_type": "stream",
     "text": [
      "<class 'pandas.core.frame.DataFrame'>\n",
      "RangeIndex: 731 entries, 0 to 730\n",
      "Data columns (total 16 columns):\n",
      " #   Column      Non-Null Count  Dtype  \n",
      "---  ------      --------------  -----  \n",
      " 0   Unnamed: 0  731 non-null    int64  \n",
      " 1   season      731 non-null    object \n",
      " 2   holiday     731 non-null    object \n",
      " 3   weekday     731 non-null    object \n",
      " 4   workingday  731 non-null    object \n",
      " 5   weathersit  731 non-null    object \n",
      " 6   temp        731 non-null    float64\n",
      " 7   atemp       731 non-null    float64\n",
      " 8   hum         698 non-null    float64\n",
      " 9   windspeed   731 non-null    float64\n",
      " 10  casual      731 non-null    int64  \n",
      " 11  registered  731 non-null    int64  \n",
      " 12  cnt         731 non-null    int64  \n",
      " 13  day         731 non-null    int64  \n",
      " 14  month       731 non-null    int64  \n",
      " 15  year        731 non-null    int64  \n",
      "dtypes: float64(4), int64(7), object(5)\n",
      "memory usage: 91.5+ KB\n"
     ]
    }
   ],
   "source": [
    "data.info()"
   ]
  },
  {
   "cell_type": "code",
   "execution_count": null,
   "id": "328052a0",
   "metadata": {},
   "outputs": [],
   "source": []
  }
 ],
 "metadata": {
  "kernelspec": {
   "display_name": "mlenv",
   "language": "python",
   "name": "python3"
  },
  "language_info": {
   "codemirror_mode": {
    "name": "ipython",
    "version": 3
   },
   "file_extension": ".py",
   "mimetype": "text/x-python",
   "name": "python",
   "nbconvert_exporter": "python",
   "pygments_lexer": "ipython3",
   "version": "3.12.1"
  }
 },
 "nbformat": 4,
 "nbformat_minor": 5
}
